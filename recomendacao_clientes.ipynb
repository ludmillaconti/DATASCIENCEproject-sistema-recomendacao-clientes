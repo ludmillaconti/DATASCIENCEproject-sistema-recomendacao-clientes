{
  "nbformat": 4,
  "nbformat_minor": 0,
  "metadata": {
    "colab": {
      "name": "recomendacao_clientes.ipynb",
      "provenance": []
    },
    "kernelspec": {
      "name": "python3",
      "display_name": "Python 3"
    },
    "language_info": {
      "name": "python"
    }
  },
  "cells": [
    {
      "cell_type": "code",
      "metadata": {
        "id": "SrcYEjJ9SKkB"
      },
      "source": [
        "library(recommenderlab)"
      ],
      "execution_count": null,
      "outputs": []
    },
    {
      "cell_type": "code",
      "metadata": {
        "id": "m6mUYnbuSTg2"
      },
      "source": [
        "library(ggplot2)                       #Author DataFlair\n",
        "library(data.table)\n",
        "library(reshape2)"
      ],
      "execution_count": null,
      "outputs": []
    },
    {
      "cell_type": "code",
      "metadata": {
        "id": "oUKSeX0nSW5F"
      },
      "source": [
        "setwd(\"/home/dataflair/data/movie_data\")                       #Author DataFlair\n",
        "movie_data <- read.csv(\"movies.csv\",stringsAsFactors=FALSE)\n",
        "rating_data <- read.csv(\"ratings.csv\")\n",
        "str(movie_data)"
      ],
      "execution_count": null,
      "outputs": []
    },
    {
      "cell_type": "code",
      "metadata": {
        "id": "eGCetFHnSYd-"
      },
      "source": [
        "summary(movie_data)    #Author DataFlair"
      ],
      "execution_count": null,
      "outputs": []
    },
    {
      "cell_type": "code",
      "metadata": {
        "id": "B5noRw4zSaBY"
      },
      "source": [
        "head(movie_data)"
      ],
      "execution_count": null,
      "outputs": []
    },
    {
      "cell_type": "code",
      "metadata": {
        "id": "EuZArkVkSbil"
      },
      "source": [
        "summary(rating_data)   #Author DataFlair\n",
        "head(rating_data)"
      ],
      "execution_count": null,
      "outputs": []
    },
    {
      "cell_type": "markdown",
      "metadata": {
        "id": "Af0cco8cSfhU"
      },
      "source": [
        "Data pre-processing"
      ]
    },
    {
      "cell_type": "code",
      "metadata": {
        "id": "ySYfGL87SeSO"
      },
      "source": [
        "movie_genre <- as.data.frame(movie_data$genres, stringsAsFactors=FALSE)\n",
        "library(data.table)\n",
        "movie_genre2 <- as.data.frame(tstrsplit(movie_genre[,1], '[|]', \n",
        "                                   type.convert=TRUE), \n",
        "                         stringsAsFactors=FALSE) #DataFlair\n",
        "colnames(movie_genre2) <- c(1:10)\n",
        "\n",
        "list_genre <- c(\"Action\", \"Adventure\", \"Animation\", \"Children\", \n",
        "                \"Comedy\", \"Crime\",\"Documentary\", \"Drama\", \"Fantasy\",\n",
        "                \"Film-Noir\", \"Horror\", \"Musical\", \"Mystery\",\"Romance\",\n",
        "                \"Sci-Fi\", \"Thriller\", \"War\", \"Western\")\n",
        "genre_mat1 <- matrix(0,10330,18)\n",
        "genre_mat1[1,] <- list_genre\n",
        "colnames(genre_mat1) <- list_genre\n",
        "\n",
        "for (index in 1:nrow(movie_genre2)) {\n",
        "  for (col in 1:ncol(movie_genre2)) {\n",
        "    gen_col = which(genre_mat1[1,] == movie_genre2[index,col]) #Author DataFlair\n",
        "    genre_mat1[index+1,gen_col] <- 1\n",
        "}\n",
        "}\n",
        "genre_mat2 <- as.data.frame(genre_mat1[-1,], stringsAsFactors=FALSE) #remove first row, which was the genre list\n",
        "for (col in 1:ncol(genre_mat2)) {\n",
        "  genre_mat2[,col] <- as.integer(genre_mat2[,col]) #convert from characters to integers\n",
        "} \n",
        "str(genre_mat2)"
      ],
      "execution_count": null,
      "outputs": []
    },
    {
      "cell_type": "code",
      "metadata": {
        "id": "ZAsNnMCXSjAe"
      },
      "source": [
        "SearchMatrix <- cbind(movie_data[,1:2], genre_mat2[])\n",
        "head(SearchMatrix)    #DataFlair"
      ],
      "execution_count": null,
      "outputs": []
    },
    {
      "cell_type": "code",
      "metadata": {
        "id": "e_CFH0R5Slx-"
      },
      "source": [
        "ratingMatrix <- dcast(rating_data, userId~movieId, value.var = \"rating\", na.rm=FALSE)\n",
        "ratingMatrix <- as.matrix(ratingMatrix[,-1]) #remove userIds\n",
        "#Convert rating matrix into a recommenderlab sparse matrix\n",
        "ratingMatrix <- as(ratingMatrix, \"realRatingMatrix\")\n",
        "ratingMatrix"
      ],
      "execution_count": null,
      "outputs": []
    },
    {
      "cell_type": "code",
      "metadata": {
        "id": "IyvsZuX-SnqW"
      },
      "source": [
        "recommendation_model <- recommenderRegistry$get_entries(dataType = \"realRatingMatrix\")\n",
        "names(recommendation_model)"
      ],
      "execution_count": null,
      "outputs": []
    },
    {
      "cell_type": "code",
      "metadata": {
        "id": "gh-dggHESo-O"
      },
      "source": [
        "lapply(recommendation_model, \"[[\", \"description\")"
      ],
      "execution_count": null,
      "outputs": []
    },
    {
      "cell_type": "code",
      "metadata": {
        "id": "GAtzesF2Sq2-"
      },
      "source": [
        "recommendation_model$IBCF_realRatingMatrix$parameters"
      ],
      "execution_count": null,
      "outputs": []
    },
    {
      "cell_type": "markdown",
      "metadata": {
        "id": "mDBZK9CESsOG"
      },
      "source": [
        "Exploring similar data"
      ]
    },
    {
      "cell_type": "code",
      "metadata": {
        "id": "bAVjfswdSt7v"
      },
      "source": [
        "similarity_mat <- similarity(ratingMatrix[1:4, ],\n",
        "                               method = \"cosine\",\n",
        "                               which = \"users\")\n",
        "as.matrix(similarity_mat)\n",
        "\n",
        "image(as.matrix(similarity_mat), main = \"User's Similarities\")"
      ],
      "execution_count": null,
      "outputs": []
    },
    {
      "cell_type": "code",
      "metadata": {
        "id": "zSm4skw-SwJi"
      },
      "source": [
        "movie_similarity <- similarity(ratingMatrix[, 1:4], method =\n",
        "                                 \"cosine\", which = \"items\")\n",
        "as.matrix(movie_similarity)\n",
        "\n",
        "image(as.matrix(movie_similarity), main = \"Movies similarity\")"
      ],
      "execution_count": null,
      "outputs": []
    },
    {
      "cell_type": "code",
      "metadata": {
        "id": "qRkNJXZNSxi1"
      },
      "source": [
        "rating_values <- as.vector(ratingMatrix@data)\n",
        "unique(rating_values) # extracting unique ratings"
      ],
      "execution_count": null,
      "outputs": []
    },
    {
      "cell_type": "markdown",
      "metadata": {
        "id": "hSQZw_o1S1uG"
      },
      "source": [
        "Most Viewed Movies Visualization\n"
      ]
    },
    {
      "cell_type": "code",
      "metadata": {
        "id": "2SZQU4L0S3Oq"
      },
      "source": [
        "library(ggplot2)\n",
        "movie_views <- colCounts(ratingMatrix) # count views for each movie\n",
        "table_views <- data.frame(movie = names(movie_views),\n",
        "                          views = movie_views) # create dataframe of views\n",
        "table_views <- table_views[order(table_views$views,\n",
        "                                 decreasing = TRUE), ] # sort by number of views\n",
        "table_views$title <- NA\n",
        "for (index in 1:10325){\n",
        "  table_views[index,3] <- as.character(subset(movie_data,\n",
        "                                         movie_data$movieId == table_views[index,1])$title)\n",
        "}\n",
        "table_views[1:6,]"
      ],
      "execution_count": null,
      "outputs": []
    },
    {
      "cell_type": "code",
      "metadata": {
        "id": "6ERTkhsRS5rH"
      },
      "source": [
        "ggplot(table_views[1:6, ], aes(x = title, y = views)) +\n",
        "  geom_bar(stat=\"identity\", fill = 'steelblue') +\n",
        "  geom_text(aes(label=views), vjust=-0.3, size=3.5) +\n",
        "  theme(axis.text.x = element_text(angle = 45, hjust = 1)) +\n",
        "\n",
        "  ggtitle(\"Total Views of the Top Films\")"
      ],
      "execution_count": null,
      "outputs": []
    },
    {
      "cell_type": "markdown",
      "metadata": {
        "id": "bnmiSRDxS7uG"
      },
      "source": [
        "Heatmap of Movie Ratings"
      ]
    },
    {
      "cell_type": "code",
      "metadata": {
        "id": "LUQEPaRKS8ZF"
      },
      "source": [
        "image(ratingMatrix[1:20, 1:25], axes = FALSE, main = \"Heatmap of the first 25 rows and 25 columns\")"
      ],
      "execution_count": null,
      "outputs": []
    },
    {
      "cell_type": "markdown",
      "metadata": {
        "id": "7CMH1H7TS_hW"
      },
      "source": [
        "Performing Data Preparation"
      ]
    },
    {
      "cell_type": "code",
      "metadata": {
        "id": "Xv_m8YWuTAQQ"
      },
      "source": [
        "movie_ratings <- ratingMatrix[rowCounts(ratingMatrix) > 50,\n",
        "                             colCounts(ratingMatrix) > 50]\n",
        "Movie_ratings"
      ],
      "execution_count": null,
      "outputs": []
    },
    {
      "cell_type": "code",
      "metadata": {
        "id": "IosKXUCxTCPO"
      },
      "source": [
        "minimum_movies<- quantile(rowCounts(movie_ratings), 0.98)\n",
        "minimum_users <- quantile(colCounts(movie_ratings), 0.98)\n",
        "image(movie_ratings[rowCounts(movie_ratings) > minimum_movies,\n",
        "                     colCounts(movie_ratings) > minimum_users],\n",
        "main = \"Heatmap of the top users and movies\")"
      ],
      "execution_count": null,
      "outputs": []
    },
    {
      "cell_type": "code",
      "metadata": {
        "id": "K5RBn2gJTD2_"
      },
      "source": [
        "average_ratings <- rowMeans(movie_ratings)\n",
        "qplot(average_ratings, fill=I(\"steelblue\"), col=I(\"red\")) +\n",
        "  ggtitle(\"Distribution of the average rating per user\")"
      ],
      "execution_count": null,
      "outputs": []
    },
    {
      "cell_type": "markdown",
      "metadata": {
        "id": "NaoHAfTATFi3"
      },
      "source": [
        "Data Normalization"
      ]
    },
    {
      "cell_type": "code",
      "metadata": {
        "id": "mHH6IMiLTGOu"
      },
      "source": [
        "normalized_ratings <- normalize(movie_ratings)\n",
        "sum(rowMeans(normalized_ratings) > 0.00001)\n",
        "\n",
        "image(normalized_ratings[rowCounts(normalized_ratings) > minimum_movies,\n",
        "                          colCounts(normalized_ratings) > minimum_users],\n",
        "main = \"Normalized Ratings of the Top Users\")"
      ],
      "execution_count": null,
      "outputs": []
    },
    {
      "cell_type": "markdown",
      "metadata": {
        "id": "QvUo0yHVTI5_"
      },
      "source": [
        "Performing Data Binarization"
      ]
    },
    {
      "cell_type": "code",
      "metadata": {
        "id": "7BpQ5dDUTItn"
      },
      "source": [
        "binary_minimum_movies <- quantile(rowCounts(movie_ratings), 0.95)\n",
        "binary_minimum_users <- quantile(colCounts(movie_ratings), 0.95)\n",
        "#movies_watched <- binarize(movie_ratings, minRating = 1)\n",
        "\n",
        "good_rated_films <- binarize(movie_ratings, minRating = 3)\n",
        "image(good_rated_films[rowCounts(movie_ratings) > binary_minimum_movies,\n",
        "colCounts(movie_ratings) > binary_minimum_users],\n",
        "main = \"Heatmap of the top users and movies\")"
      ],
      "execution_count": null,
      "outputs": []
    },
    {
      "cell_type": "markdown",
      "metadata": {
        "id": "xyl1haeHTMBL"
      },
      "source": [
        "Collaborative Filtering System"
      ]
    },
    {
      "cell_type": "code",
      "metadata": {
        "id": "VAXurmj4TNI8"
      },
      "source": [
        "sampled_data<- sample(x = c(TRUE, FALSE),\n",
        "                      size = nrow(movie_ratings),\n",
        "                      replace = TRUE,\n",
        "                      prob = c(0.8, 0.2))\n",
        "training_data <- movie_ratings[sampled_data, ]\n",
        "testing_data <- movie_ratings[!sampled_data, ]"
      ],
      "execution_count": null,
      "outputs": []
    },
    {
      "cell_type": "markdown",
      "metadata": {
        "id": "4sEBIXQQTPS1"
      },
      "source": [
        "Building the Recommendation System using R"
      ]
    },
    {
      "cell_type": "code",
      "metadata": {
        "id": "67qsnT3PTRje"
      },
      "source": [
        "recommendation_system <- recommenderRegistry$get_entries(dataType =\"realRatingMatrix\")\n",
        "recommendation_system$IBCF_realRatingMatrix$parameters"
      ],
      "execution_count": null,
      "outputs": []
    },
    {
      "cell_type": "code",
      "metadata": {
        "id": "QIPgmK2ITTA2"
      },
      "source": [
        "recommen_model <- Recommender(data = training_data,\n",
        "                          method = \"IBCF\",\n",
        "                          parameter = list(k = 30))\n",
        "recommen_model\n",
        "class(recommen_model)"
      ],
      "execution_count": null,
      "outputs": []
    },
    {
      "cell_type": "code",
      "metadata": {
        "id": "XM-kI1MfTUi-"
      },
      "source": [
        "model_info <- getModel(recommen_model)\n",
        "class(model_info$sim)\n",
        "dim(model_info$sim)\n",
        "top_items <- 20\n",
        "image(model_info$sim[1:top_items, 1:top_items],\n",
        "   main = \"Heatmap of the first rows and columns\")"
      ],
      "execution_count": null,
      "outputs": []
    },
    {
      "cell_type": "code",
      "metadata": {
        "id": "t5uG5FFpTWVl"
      },
      "source": [
        "sum_rows <- rowSums(model_info$sim > 0)\n",
        "table(sum_rows)\n",
        "\n",
        "sum_cols <- colSums(model_info$sim > 0)\n",
        "qplot(sum_cols, fill=I(\"steelblue\"), col=I(\"red\"))+ ggtitle(\"Distribution of the column count\")"
      ],
      "execution_count": null,
      "outputs": []
    },
    {
      "cell_type": "code",
      "metadata": {
        "id": "0AZBHyNMTYpO"
      },
      "source": [
        "top_recommendations <- 10 # the number of items to recommend to each user\n",
        "predicted_recommendations <- predict(object = recommen_model,\n",
        "                          newdata = testing_data,\n",
        "                          n = top_recommendations)\n",
        "predicted_recommendations"
      ],
      "execution_count": null,
      "outputs": []
    },
    {
      "cell_type": "code",
      "metadata": {
        "id": "x1uNP3XVTaEK"
      },
      "source": [
        "user1 <- predicted_recommendations@items[[1]] # recommendation for the first user\n",
        "movies_user1 <- predicted_recommendations@itemLabels[user1]\n",
        "movies_user2 <- movies_user1\n",
        "for (index in 1:10){\n",
        "  movies_user2[index] <- as.character(subset(movie_data,\n",
        "                                         movie_data$movieId == movies_user1[index])$title)\n",
        "}\n",
        "movies_user2"
      ],
      "execution_count": null,
      "outputs": []
    },
    {
      "cell_type": "code",
      "metadata": {
        "id": "aA5PuLHMTbcK"
      },
      "source": [
        "recommendation_matrix <- sapply(predicted_recommendations@items,\n",
        "                      function(x){ as.integer(colnames(movie_ratings)[x]) }) # matrix with the recommendations for each user\n",
        "#dim(recc_matrix)\n",
        "recommendation_matrix[,1:4]"
      ],
      "execution_count": null,
      "outputs": []
    }
  ]
}